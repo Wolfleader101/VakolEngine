{
 "cells": [
  {
   "cell_type": "markdown",
   "metadata": {},
   "source": [
    "# Physics Lambda Testing"
   ]
  },
  {
   "cell_type": "markdown",
   "metadata": {},
   "source": [
    "## Function"
   ]
  },
  {
   "cell_type": "code",
   "execution_count": 21,
   "metadata": {},
   "outputs": [],
   "source": [
    "import numpy as np\n",
    "\n",
    "def compute_lambda(n, v1, v2, m1, m2, w1, w2, r1, r2, e, J1, J2):\n",
    "    n = np.array(n)\n",
    "    v1 = np.array(v1)\n",
    "    v2 = np.array(v2)\n",
    "    w1 = np.array(w1)\n",
    "    w2 = np.array(w2)\n",
    "    r1 = np.array(r1)\n",
    "    r2 = np.array(r2)\n",
    "    J1 = np.array(J1)\n",
    "    J2 = np.array(J2)\n",
    "\n",
    "    J1_inv = np.linalg.inv(J1) if m1 != 0 else np.zeros_like(J1)\n",
    "    J2_inv = np.linalg.inv(J2) if m2 != 0 else np.zeros_like(J2) \n",
    "\n",
    "    nv = np.dot(n, v1 - v2)\n",
    "    wr1 = np.dot(w1, np.cross(r1, n))\n",
    "    wr2 = np.dot(w2, np.cross(r2, n))\n",
    "    \n",
    "    r1j = np.dot(np.cross(r1, n), np.dot(J1_inv, np.cross(r1, n)))\n",
    "    r2j = np.dot(np.cross(r2, n), np.dot(J2_inv, np.cross(r2, n)))\n",
    "\n",
    "    top = -(1.0 + e) * (nv + wr1 - wr2)\n",
    "    bottom = (1.0/m1 if m1 != 0 else 0) + (1.0/m2 if m2 != 0 else 0) + r1j + r2j\n",
    "\n",
    "    lambda_value = top / bottom\n",
    "    return lambda_value\n"
   ]
  },
  {
   "cell_type": "markdown",
   "metadata": {},
   "source": [
    "# Testing"
   ]
  },
  {
   "cell_type": "code",
   "execution_count": 24,
   "metadata": {},
   "outputs": [
    {
     "name": "stdout",
     "output_type": "stream",
     "text": [
      "-11.270016938100492\n",
      "Impulse [-0.0, 11.270016938100492, -0.0]\n",
      "[0 0 1]\n",
      "[[ -0.          -0.          -0.        ]\n",
      " [ -0.          -0.          -0.        ]\n",
      " [ -0.          -0.         -16.90502456]]\n"
     ]
    }
   ],
   "source": [
    "N  = [0, -1, 0]\n",
    "V1 = [0, -18.783361, 0]\n",
    "V2 = [0, 0, 0]\n",
    "M1 = 1\n",
    "M2 = 0 # static body\n",
    "W1 = [0, 0, 0]\n",
    "W2 = [0, 0, 0]\n",
    "# r1 = [1, -1, 1]\n",
    "r1 = [-1, 0, 0]\n",
    "r2 = [11, 1, 1]\n",
    "e = 0.5\n",
    "J1 = [\n",
    "    [ 0.6666667, 0, 0],\n",
    "    [0,  0.6666667, 0],\n",
    "    [0, 0,  0.6666667]\n",
    "]\n",
    "J2 = [\n",
    "    [0, 0, 0],\n",
    "    [0, 0, 0],\n",
    "    [0, 0, 0]\n",
    "]\n",
    "\n",
    "lambda_value = compute_lambda(N, V1, V2, M1, M2, W1, W2, r1, r2, e, J1, J2)\n",
    "print(lambda_value)\n",
    "\n",
    "impulse = np.array(N) * lambda_value\n",
    "print(f\"Impulse {impulse.tolist()}\")\n",
    "\n",
    "print(np.cross(r1, N))\n",
    "\n",
    "J1_inv = np.linalg.inv(J1)\n",
    "print(lambda_value * J1_inv * np.cross(r1, N))"
   ]
  }
 ],
 "metadata": {
  "kernelspec": {
   "display_name": "Python 3",
   "language": "python",
   "name": "python3"
  },
  "language_info": {
   "codemirror_mode": {
    "name": "ipython",
    "version": 3
   },
   "file_extension": ".py",
   "mimetype": "text/x-python",
   "name": "python",
   "nbconvert_exporter": "python",
   "pygments_lexer": "ipython3",
   "version": "3.10.11"
  },
  "orig_nbformat": 4
 },
 "nbformat": 4,
 "nbformat_minor": 2
}
