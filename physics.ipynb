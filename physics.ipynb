{
 "cells": [
  {
   "cell_type": "markdown",
   "metadata": {},
   "source": [
    "# Physics Lambda Testing"
   ]
  },
  {
   "cell_type": "markdown",
   "metadata": {},
   "source": [
    "## Function"
   ]
  },
  {
   "cell_type": "code",
   "execution_count": 23,
   "metadata": {},
   "outputs": [],
   "source": [
    "import numpy as np\n",
    "\n",
    "def compute_lambda(n, v1, v2, m1, m2, w1, w2, r1, r2, e, J1, J2):\n",
    "    n = np.array(n)\n",
    "    v1 = np.array(v1)\n",
    "    v2 = np.array(v2)\n",
    "    w1 = np.array(w1)\n",
    "    w2 = np.array(w2)\n",
    "    r1 = np.array(r1)\n",
    "    r2 = np.array(r2)\n",
    "    J1 = np.array(J1)\n",
    "    J2 = np.array(J2)\n",
    "\n",
    "    # Calculate the inverse of the inertia tensors\n",
    "    J1_inv = np.linalg.inv(J1)\n",
    "    J2_inv = np.linalg.inv(J2) if m2 != 0 else np.zeros_like(J2)  # If m2 is zero (static body), use zero matrix\n",
    "\n",
    "    nv = np.dot(n, v1 - v2)\n",
    "    wr1 = np.dot(w1, np.cross(r1, n))\n",
    "    wr2 = np.dot(w2, np.cross(r2, n))\n",
    "    \n",
    "    r1j = np.dot(np.cross(r1, n), np.dot(J1_inv, np.cross(r1, n)))\n",
    "    r2j = np.dot(np.cross(r2, n), np.dot(J2_inv, np.cross(r2, n)))\n",
    "\n",
    "    top = -(1.0 + e) * (nv + wr1 - wr2)\n",
    "    print(\"top = \", top)\n",
    "    bottom = (1.0/m1 if m1 != 0 else 0) + (1.0/m2 if m2 != 0 else 0) + r1j + r2j\n",
    "    print(\"bottom = \", bottom)\n",
    "\n",
    "    lambda_value = top / bottom\n",
    "    return lambda_value\n"
   ]
  },
  {
   "cell_type": "markdown",
   "metadata": {},
   "source": [
    "# Testing"
   ]
  },
  {
   "cell_type": "code",
   "execution_count": 24,
   "metadata": {},
   "outputs": [
    {
     "name": "stdout",
     "output_type": "stream",
     "text": [
      "top =  -28.1750415\n",
      "bottom =  3.9999998500000076\n",
      "-7.04376063914101\n",
      "top =  -28.1750415\n",
      "bottom =  3.9999998500000076\n",
      "-14.08752127828202\n",
      "top =  -28.1750415\n",
      "bottom =  3.9999998500000076\n",
      "-21.13128191742303\n",
      "top =  -28.1750415\n",
      "bottom =  3.9999998500000076\n",
      "-28.17504255656404\n",
      "Impulse [-0.0, 28.17504255656404, -0.0]\n"
     ]
    }
   ],
   "source": [
    "N  = [0, -1, 0]\n",
    "V1 = [0, -18.783361, 0]\n",
    "V2 = [0, 0, 0]\n",
    "M1 = 1\n",
    "M2 = 0 # static body\n",
    "W1 = [0, 0, 0]\n",
    "W2 = [0, 0, 0]\n",
    "r1 = [1, -1, 1]\n",
    "r2 = [11, 1, 1]\n",
    "e = 0.5\n",
    "J1 = [                  # Inertia tensor of the cube.\n",
    "    [ 0.6666667, 0, 0],\n",
    "    [0,  0.6666667, 0],\n",
    "    [0, 0,  0.6666667]\n",
    "]\n",
    "J2 = [                  # Inertia tensor of the floor, effectively infinite along all axes, so we treat it as a zero matrix for computations.\n",
    "    [0, 0, 0],\n",
    "    [0, 0, 0],\n",
    "    [0, 0, 0]\n",
    "]\n",
    "\n",
    "lambda_value = compute_lambda(N, V1, V2, M1, M2, W1, W2, r1, r2, e, J1, J2)\n",
    "print(lambda_value)\n",
    "\n",
    "lambda_value += compute_lambda(N, V1, V2, M1, M2, W1, W2, [1,-1,-1], [11, 1, -1], e, J1, J2)\n",
    "print(lambda_value)\n",
    "\n",
    "lambda_value += compute_lambda(N, V1, V2, M1, M2, W1, W2, [-1,-1,-1], [9, 1, -1], e, J1, J2)\n",
    "print(lambda_value)\n",
    "\n",
    "lambda_value += compute_lambda(N, V1, V2, M1, M2, W1, W2, [-1,-1, 1], [9, 1, 1], e, J1, J2)\n",
    "print(lambda_value)\n",
    "\n",
    "impulse = np.array(N) * lambda_value\n",
    "print(f\"Impulse {impulse.tolist()}\")\n"
   ]
  }
 ],
 "metadata": {
  "kernelspec": {
   "display_name": "Python 3",
   "language": "python",
   "name": "python3"
  },
  "language_info": {
   "codemirror_mode": {
    "name": "ipython",
    "version": 3
   },
   "file_extension": ".py",
   "mimetype": "text/x-python",
   "name": "python",
   "nbconvert_exporter": "python",
   "pygments_lexer": "ipython3",
   "version": "3.10.11"
  },
  "orig_nbformat": 4
 },
 "nbformat": 4,
 "nbformat_minor": 2
}
