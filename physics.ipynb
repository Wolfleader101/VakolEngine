{
 "cells": [
  {
   "cell_type": "markdown",
   "metadata": {},
   "source": [
    "# Physics Lambda Testing"
   ]
  },
  {
   "cell_type": "markdown",
   "metadata": {},
   "source": [
    "## Function"
   ]
  },
  {
   "cell_type": "code",
   "execution_count": 30,
   "metadata": {},
   "outputs": [],
   "source": [
    "import numpy as np\n",
    "\n",
    "def compute_lambda(n, v1, v2, m1, m2, w1, w2, r1, r2, e, j1_inv, j2_inv):\n",
    "\n",
    "    n = np.array(n)\n",
    "    v1 = np.array(v1)\n",
    "    v2 = np.array(v2)\n",
    "    w1 = np.array(w1)\n",
    "    w2 = np.array(w2)\n",
    "    r1 = np.array(r1)\n",
    "    r2 = np.array(r2)\n",
    "    j1_inv = np.array(j1_inv)\n",
    "    j2_inv = np.array(j2_inv)\n",
    "\n",
    "    nv = np.dot(n, v1 - v2)\n",
    "    wr1 = np.dot(w1, np.cross(r1, n))\n",
    "    wr2 = np.dot(w2, np.cross(r2, n))\n",
    "\n",
    "    r1j = np.dot(np.cross(r1, n), j1_inv * np.cross(r1, n))\n",
    "    r2j = np.dot(np.cross(r2, n), j2_inv * np.cross(r2, n))\n",
    "\n",
    "    top = -(1.0 + e) * (nv + wr1 - wr2)\n",
    "    print(f\"Top {top}\")\n",
    "    bottom = (1/m1 if m1 != 0 else 0) + (1/m2 if m2 != 0 else 0) + r1j + r2j\n",
    "    print(f\"Bottom {bottom}\")\n",
    "\n",
    "    lambda_value = top / bottom\n",
    "    return lambda_value\n"
   ]
  },
  {
   "cell_type": "markdown",
   "metadata": {},
   "source": [
    "# Testing"
   ]
  },
  {
   "cell_type": "code",
   "execution_count": 37,
   "metadata": {},
   "outputs": [
    {
     "name": "stdout",
     "output_type": "stream",
     "text": [
      "Top -35.6883859\n",
      "Bottom 12.999999001\n",
      "-2.745260664808877\n",
      "Top -35.6883859\n",
      "Bottom 12.999999001\n",
      "-5.490521329617754\n",
      "Top -35.6883859\n",
      "Bottom 12.999999001\n",
      "-8.235781994426631\n",
      "Top -35.6883859\n",
      "Bottom 12.999999001\n",
      "-10.981042659235507\n",
      "Impulse [-0.0, 10.981042659235507, -0.0]\n"
     ]
    }
   ],
   "source": [
    "N  = [0, -1, 0]\n",
    "V1 = [0, -18.783361, 0]\n",
    "V2 = [0, 0, 0]\n",
    "M1 = 1\n",
    "M2 = 0 # static body\n",
    "W1 = [0, 0, 0]\n",
    "W2 = [0, 0, 0]\n",
    "r1 = [1, -1, 1]\n",
    "r2 = [11, 1, 1]\n",
    "e = 0.9\n",
    "J1_inv = [5.9999995, 5.9999995, 5.9999995]\n",
    "J2_inv = [0, 0, 0] # static body\n",
    "\n",
    "lambda_value = compute_lambda(N, V1, V2, M1, M2, W1, W2, r1, r2, e, J1_inv, J2_inv)\n",
    "print(lambda_value)\n",
    "\n",
    "lambda_value += compute_lambda(N, V1, V2, M1, M2, W1, W2, [1,-1,-1], [11, 1, -1], e, J1_inv, J2_inv)\n",
    "print(lambda_value)\n",
    "\n",
    "lambda_value += compute_lambda(N, V1, V2, M1, M2, W1, W2, [-1,-1,-1], [9, 1, -1], e, J1_inv, J2_inv)\n",
    "print(lambda_value)\n",
    "\n",
    "lambda_value += compute_lambda(N, V1, V2, M1, M2, W1, W2, [-1,-1, 1], [9, 1, 1], e, J1_inv, J2_inv)\n",
    "print(lambda_value)\n",
    "\n",
    "impulse = np.array(N) * lambda_value\n",
    "print(f\"Impulse {impulse.tolist()}\")\n"
   ]
  }
 ],
 "metadata": {
  "kernelspec": {
   "display_name": "Python 3",
   "language": "python",
   "name": "python3"
  },
  "language_info": {
   "codemirror_mode": {
    "name": "ipython",
    "version": 3
   },
   "file_extension": ".py",
   "mimetype": "text/x-python",
   "name": "python",
   "nbconvert_exporter": "python",
   "pygments_lexer": "ipython3",
   "version": "3.10.11"
  },
  "orig_nbformat": 4
 },
 "nbformat": 4,
 "nbformat_minor": 2
}
